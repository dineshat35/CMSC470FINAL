{
 "cells": [
  {
   "cell_type": "code",
   "execution_count": 2,
   "metadata": {},
   "outputs": [
    {
     "name": "stderr",
     "output_type": "stream",
     "text": [
      "/home/linux/anaconda3/envs/tf-idf/lib/python3.11/site-packages/tqdm/auto.py:21: TqdmWarning: IProgress not found. Please update jupyter and ipywidgets. See https://ipywidgets.readthedocs.io/en/stable/user_install.html\n",
      "  from .autonotebook import tqdm as notebook_tqdm\n"
     ]
    }
   ],
   "source": [
    "from datasets import load_dataset\n",
    "from transformers import AutoTokenizer, T5ForConditionalGeneration, pipeline\n",
    "from transformers.pipelines.pt_utils import KeyDataset\n",
    "import torch"
   ]
  },
  {
   "cell_type": "code",
   "execution_count": 4,
   "metadata": {},
   "outputs": [
    {
     "name": "stderr",
     "output_type": "stream",
     "text": [
      "Special tokens have been added in the vocabulary, make sure the associated word embeddings are fine-tuned or trained.\n"
     ]
    }
   ],
   "source": [
    "DEVICE = torch.device('cuda' if torch.cuda.is_available() else 'cpu')\n",
    "\n",
    "tokenizer = AutoTokenizer.from_pretrained(\"models/flan_t5_small\")\n",
    "model = T5ForConditionalGeneration.from_pretrained(\"models/flan_t5_small\").to(DEVICE)\n"
   ]
  },
  {
   "cell_type": "code",
   "execution_count": 10,
   "metadata": {},
   "outputs": [
    {
     "name": "stdout",
     "output_type": "stream",
     "text": [
      "<pad> physics</s>\n"
     ]
    }
   ],
   "source": [
    "input_text = \"What computer science concept involved breaking a task down into smaller parts?\"\n",
    "input_ids = tokenizer(input_text, return_tensors=\"pt\").input_ids.to(DEVICE)\n",
    "\n",
    "outputs = model.generate(input_ids)\n",
    "print(tokenizer.decode(outputs[0]))"
   ]
  },
  {
   "cell_type": "code",
   "execution_count": 12,
   "metadata": {},
   "outputs": [],
   "source": [
    "def getAnswer(question):\n",
    "    input_text = question\n",
    "    input_ids = tokenizer(input_text, return_tensors=\"pt\").input_ids.to(DEVICE)\n",
    "\n",
    "    outputs = model.generate(input_ids)\n",
    "    return tokenizer.decode(outputs[0])"
   ]
  },
  {
   "cell_type": "code",
   "execution_count": 15,
   "metadata": {},
   "outputs": [],
   "source": [
    "questions = [\n",
    "    \"What is the capital of Brazil?\",\n",
    "    \"Which countries were bombed by the US in the Vietnam War?\",\n",
    "    \"What is the common name for the molecular compound H2O?\",\n",
    "    \"What is the sum of 1, 2, 3, and 4?\",\n",
    "    \"What irrational mathematical constant is used to calculate the circumference of a circle?\"\n",
    "]"
   ]
  },
  {
   "cell_type": "code",
   "execution_count": 16,
   "metadata": {},
   "outputs": [
    {
     "name": "stderr",
     "output_type": "stream",
     "text": [
      "/home/linux/anaconda3/envs/tf-idf/lib/python3.11/site-packages/transformers/generation/utils.py:1133: UserWarning: Using the model-agnostic default `max_length` (=20) to control the generation length. We recommend setting `max_new_tokens` to control the maximum length of the generation.\n",
      "  warnings.warn(\n"
     ]
    },
    {
     "name": "stdout",
     "output_type": "stream",
     "text": [
      "<pad> <unk>el</s>\n",
      "<pad> United States</s>\n",
      "<pad> phosphorus</s>\n",
      "<pad> <unk></s>\n",
      "<pad> <unk></s>\n"
     ]
    }
   ],
   "source": [
    "for q in questions:\n",
    "    print(getAnswer(q))"
   ]
  },
  {
   "cell_type": "code",
   "execution_count": 17,
   "metadata": {},
   "outputs": [
    {
     "name": "stderr",
     "output_type": "stream",
     "text": [
      "/home/linux/anaconda3/envs/tf-idf/lib/python3.11/site-packages/transformers/generation/utils.py:1133: UserWarning: Using the model-agnostic default `max_length` (=20) to control the generation length. We recommend setting `max_new_tokens` to control the maximum length of the generation.\n",
      "  warnings.warn(\n"
     ]
    },
    {
     "name": "stdout",
     "output_type": "stream",
     "text": [
      "<pad> Rain</s>\n",
      "<pad> i.</s>\n",
      "<pad> The_Office</s>\n"
     ]
    }
   ],
   "source": [
    "logic_questions = [\n",
    "    \"It is not raining outside. If it is raining outside, I will go outside. Will I go outside?\",\n",
    "    \"I like to play all sports. Do I like to play soccer?\",\n",
    "    \"I want to buy milk. I can buy milk at the store. I cannot buy milk at the office. Should I go to the store or the office to buy milk?\"\n",
    "]\n",
    "for q in logic_questions:\n",
    "    print(getAnswer(q))"
   ]
  }
 ],
 "metadata": {
  "kernelspec": {
   "display_name": "tf-idf",
   "language": "python",
   "name": "python3"
  },
  "language_info": {
   "codemirror_mode": {
    "name": "ipython",
    "version": 3
   },
   "file_extension": ".py",
   "mimetype": "text/x-python",
   "name": "python",
   "nbconvert_exporter": "python",
   "pygments_lexer": "ipython3",
   "version": "3.11.8"
  }
 },
 "nbformat": 4,
 "nbformat_minor": 2
}
